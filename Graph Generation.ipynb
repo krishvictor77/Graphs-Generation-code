{
 "cells": [
  {
   "cell_type": "markdown",
   "metadata": {},
   "source": [
    "### Submitted by     : Krishnan Hariharan, Pradip Sen\n",
    "### Roll No.              :  D19015, D19023"
   ]
  },
  {
   "cell_type": "markdown",
   "metadata": {},
   "source": [
    "## Graph Generation"
   ]
  },
  {
   "cell_type": "markdown",
   "metadata": {},
   "source": [
    "#### Q) Create a function which takes dataframe, column list and directory as arguments where column and directory are optional. The function should generate histograms & box-plots for numerical variables as well as bar-plot graphs for categorical variables and save the results in the directory passed as argument."
   ]
  },
  {
   "cell_type": "code",
   "execution_count": 199,
   "metadata": {},
   "outputs": [],
   "source": [
    "#Importing all required libraries \n",
    "import numpy as np\n",
    "import pandas as pd\n",
    "import math\n",
    "import os\n",
    "import matplotlib.pyplot as plt\n",
    "from pandas.plotting import scatter_matrix\n",
    "import seaborn as sns"
   ]
  },
  {
   "cell_type": "code",
   "execution_count": 195,
   "metadata": {},
   "outputs": [],
   "source": [
    "#Graph function takes dataframe, column list and directory as arguments. This function extracts the dataframe columns \n",
    "#segregating them and numerical and categorical variables and generates the histograms & box-plot, and bar-plot graphs \n",
    "#respectively and saves them in the target directory/folder\n",
    "\n",
    "def graph(data,format,column=None,directory=None):\n",
    "\n",
    "    #Conditions for appending the column(s) passed as argument\n",
    "    col_list=[]                 \n",
    "    if column==None:                 \n",
    "        col_list = list(data.columns)\n",
    "    elif type(column) is str:        \n",
    "        col_list.append(column)\n",
    "    elif type(column) is list:       \n",
    "        for i in column:\n",
    "            col_list.append(i)\n",
    "            \n",
    "    \n",
    "    dir=os.getcwd()    \n",
    "    \n",
    "    #Conditions for setting the directory for saving the generated files\n",
    "    if directory==None:          \n",
    "        directory=os.getcwd()\n",
    "        folder='Results'\n",
    "        os.mkdir(folder)\n",
    "        os.chdir(directory+'/'+folder)\n",
    "    else:\n",
    "        os.chdir(directory)\n",
    "        os.mkdir('Results')\n",
    "        os.chdir(directory+'/Results')\n",
    "        \n",
    "        \n",
    "    #Conditions for setting the extensions (format) for the generated files\n",
    "    if format==1:\n",
    "        ext='png'\n",
    "    elif format==2:\n",
    "        ext='jpeg'\n",
    "    elif format==3:\n",
    "        ext='tiff'\n",
    "    elif format==4:\n",
    "        ext='pdf'\n",
    "        \n",
    "    #Conditions for segregating the numerical and categorical variables in the appended list of columns\n",
    "    num_cols=[]\n",
    "    cat_cols=[]\n",
    "    for att in col_list:\n",
    "        if data[att].dtype == 'object':\n",
    "            cat_cols.append(att)\n",
    "        else:\n",
    "            if data[att].dtype == 'float64':\n",
    "                num_cols.append(att)\n",
    "            elif data[att].dtype == 'int64':\n",
    "                #check for discrete values : If no. of unique values in a column is less than 10 percent of total values,\n",
    "                                            #it is considered as discrete and moved to categorical column list\n",
    "                if len(list(pd.Categorical(data[att]).categories))<int(0.1*(data[att].size)):                                                                   \n",
    "                    cat_cols.append(att)\n",
    "                else:\n",
    "                    num_cols.append(att)\n",
    "                    \n",
    "        \n",
    "    #Generating histograms and box-plot graphs for numerical variables\n",
    "    for c1 in num_cols:  \n",
    "\n",
    "        #Histogram\n",
    "        data.hist(column=c1,\n",
    "                grid=False,\n",
    "                figsize=(8,6),\n",
    "                color='green')\n",
    "        plt.xlabel(c1,fontsize=8)\n",
    "        plt.ylabel('Frequency',fontsize=8)\n",
    "        plt.title('Histrogram of '+c1,fontsize=12)\n",
    "        plt.grid(True)\n",
    "        plt.savefig('Histogram of '+c1+'.'+ext)\n",
    "        plt.close()\n",
    "           \n",
    "         \n",
    "        #Box-plot   \n",
    "        data.boxplot(column=c1,\n",
    "                        notch=True,\n",
    "                        grid=True,\n",
    "                        figsize=(4,4),\n",
    "                        vert=True)\n",
    "        desc=data[c1].describe()\n",
    "        \n",
    "        #IMPROVIZATION 3: Making Boxplot graphs meaningful with information\n",
    "        \n",
    "        #Displaying the relevant information to read box-plot\n",
    "        plt.title('\\n\\n'+'Count: '+str(desc[0])+'\\n'+'Mean: '+str(desc[1])+'\\n'+'Standard Deviation: '+str(desc[2])\n",
    "                  +'\\n\\n'+'Min: '+str(desc[3])+'\\n'+'Q1: '+str(desc[4])\n",
    "                  +'\\n'+'Median: '+str(desc[5])+'\\n'+'Q3: '+str(desc[6])\n",
    "                  +'\\n'+'Max: '+str(desc[7])+'\\n\\nBoxplot of '+c1,fontsize=12)\n",
    "        plt.grid(True)\n",
    "        plt.savefig('Boxplot of '+c1+'.'+ext,bbox_inches = \"tight\")\n",
    "        plt.close()\n",
    "\n",
    "        \n",
    "    #Generating bar-plot graphs for categorical variables \n",
    "    for c2 in cat_cols:\n",
    "        \n",
    "        #Bar-plot\n",
    "        data[c2].value_counts().plot(kind='bar',\n",
    "                                         figsize=(8,6),\n",
    "                                         color='red')\n",
    "        plt.xlabel(c2,fontsize=8)\n",
    "        plt.ylabel('Frequency',fontsize=8)\n",
    "        plt.title('Barplot of '+c2,fontsize=12)\n",
    "        plt.grid(True)\n",
    "        plt.savefig('Barplot of '+c2+'.'+ext)\n",
    "        plt.close()\n",
    "        \n",
    "        \n",
    "    #IMPROVIZATION 2: Scatter Matrix and Correlation Heat Map for the columns  \n",
    "    \n",
    "    #Generating the pair-wise scatter matrix for the numerical variables\n",
    "    #Scatter plots explain how the variables are correlated\n",
    "    scatter_matrix(data.drop(cat_cols,axis=1),alpha=0.5,figsize=(12,12), diagonal='hist')\n",
    "    plt.title('Pair-wise scatter plot',fontsize=12)\n",
    "    plt.grid(True)\n",
    "    plt.savefig('Pair-wise scatter plot.'+ext,bbox_inches = \"tight\")\n",
    "    plt.close()\n",
    "    \n",
    "    #Correlation Heat-map Generation\n",
    "    sns_heat = sns.heatmap(data.corr())\n",
    "    fig = sns_heat.get_figure()\n",
    "    fig.savefig('Correlation Heat Map.png')\n",
    "        \n",
    "    os.chdir(dir)  #setting the directory back to default\n",
    "    "
   ]
  },
  {
   "cell_type": "code",
   "execution_count": 196,
   "metadata": {},
   "outputs": [
    {
     "name": "stdout",
     "output_type": "stream",
     "text": [
      "Please enter the format of the results graphs (1/2/3/4 for png/jpeg/tiff/pdf): 1\n",
      "Thank you. Kindly wait till the graphs are generated.\n",
      "Graphs are generated. Please check the directory\n"
     ]
    },
    {
     "data": {
      "image/png": "[encoded data removed]",
      "text/plain": [
       "<Figure size 432x288 with 2 Axes>"
      ]
     },
     "metadata": {
      "needs_background": "light"
     },
     "output_type": "display_data"
    }
   ],
   "source": [
    "#Reading the dataset and initializing to the dataframe\n",
    "df = pd.read_csv('C:/Users/KRISH/Desktop/Python/Machine Learning/Cars.csv')  \n",
    "cols = df.columns\n",
    "\n",
    "#IMPROVIZATION 3: Different file format for saving the results\n",
    "\n",
    "#Input the file formats form the user\n",
    "while(True):\n",
    "    f=int(input('Please enter the format of the results graphs (1/2/3/4 for png/jpeg/tiff/pdf): '))\n",
    "    if f==1 or f==2 or f==3 or f==4:\n",
    "        print('Thank you. Kindly wait till the graphs are generated.')\n",
    "        break\n",
    "    else:\n",
    "        print('Not a valid input. Please Try again')\n",
    "        continue\n",
    "\n",
    "\n",
    "#Calling the graph function with the arguments\n",
    "graph(df,f) \n",
    "print('Graphs are generated. Please check the directory')"
   ]
  },
  {
   "cell_type": "code",
   "execution_count": null,
   "metadata": {},
   "outputs": [],
   "source": []
  }
 ],
 "metadata": {
  "kernelspec": {
   "display_name": "Python 3",
   "language": "python",
   "name": "python3"
  },
  "language_info": {
   "codemirror_mode": {
    "name": "ipython",
    "version": 3
   },
   "file_extension": ".py",
   "mimetype": "text/x-python",
   "name": "python",
   "nbconvert_exporter": "python",
   "pygments_lexer": "ipython3",
   "version": "3.7.3"
  }
 },
 "nbformat": 4,
 "nbformat_minor": 2
}
